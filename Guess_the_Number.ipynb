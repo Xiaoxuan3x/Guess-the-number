{
 "cells": [
  {
   "cell_type": "code",
   "execution_count": 20,
   "metadata": {},
   "outputs": [],
   "source": []
  },
  {
   "cell_type": "code",
   "execution_count": 22,
   "metadata": {},
   "outputs": [],
   "source": [
    "def guess_number():\n",
    "    import random\n",
    "    random_number=random.randint(1,100)\n",
    "    while True:\n",
    "        user_number=input(\"Guess a interger between 1-100\")\n",
    "        if user_number.isdigit():\n",
    "            int_user_number=int(user_number)\n",
    "            if int_user_number==random_number:\n",
    "                print (\"Congratulation! You are correct!\")\n",
    "                break\n",
    "            elif int_user_number >random_number:\n",
    "                print (\"It's too high! Guess again.\")\n",
    "            elif int_user_number <random_number:\n",
    "                print (\"It's too low! Guess again.\")\n",
    "        else:\n",
    "             print(\"You didn't input a number!\")\n",
    "    \n"
   ]
  },
  {
   "cell_type": "code",
   "execution_count": 25,
   "metadata": {},
   "outputs": [
    {
     "name": "stdout",
     "output_type": "stream",
     "text": [
      "It's too low! Guess again.\n",
      "You didn't input a number!\n",
      "You didn't input a number!\n",
      "You didn't input a number!\n",
      "It's too high! Guess again.\n",
      "It's too high! Guess again.\n",
      "It's too high! Guess again.\n",
      "It's too high! Guess again.\n",
      "It's too low! Guess again.\n",
      "It's too low! Guess again.\n",
      "It's too low! Guess again.\n",
      "It's too low! Guess again.\n",
      "Congratulation! You are correct!\n"
     ]
    }
   ],
   "source": [
    "guess_number()"
   ]
  }
 ],
 "metadata": {
  "kernelspec": {
   "display_name": "Python 3",
   "language": "python",
   "name": "python3"
  },
  "language_info": {
   "codemirror_mode": {
    "name": "ipython",
    "version": 3
   },
   "file_extension": ".py",
   "mimetype": "text/x-python",
   "name": "python",
   "nbconvert_exporter": "python",
   "pygments_lexer": "ipython3",
   "version": "3.11.1"
  },
  "orig_nbformat": 4,
  "vscode": {
   "interpreter": {
    "hash": "bdd467bb7a4f68e3b269196ac6111605f64c5fc48bbe9ab62ea9179eddee323f"
   }
  }
 },
 "nbformat": 4,
 "nbformat_minor": 2
}
